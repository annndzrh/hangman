{
  "nbformat": 4,
  "nbformat_minor": 0,
  "metadata": {
    "colab": {
      "provenance": [],
      "authorship_tag": "ABX9TyO48oBuZWe+iydzMIn+yiV/",
      "include_colab_link": true
    },
    "kernelspec": {
      "name": "python3",
      "display_name": "Python 3"
    },
    "language_info": {
      "name": "python"
    }
  },
  "cells": [
    {
      "cell_type": "markdown",
      "metadata": {
        "id": "view-in-github",
        "colab_type": "text"
      },
      "source": [
        "<a href=\"https://colab.research.google.com/github/annndzrh/hangman/blob/master/NLP_V2.ipynb\" target=\"_parent\"><img src=\"https://colab.research.google.com/assets/colab-badge.svg\" alt=\"Open In Colab\"/></a>"
      ]
    },
    {
      "cell_type": "code",
      "execution_count": 1,
      "metadata": {
        "colab": {
          "base_uri": "https://localhost:8080/"
        },
        "id": "sX4bVWmAoV40",
        "outputId": "b1cc7fad-1794-4825-f157-871ca46b69fd"
      },
      "outputs": [
        {
          "output_type": "stream",
          "name": "stdout",
          "text": [
            "Epoch 1/10\n",
            "283/283 [==============================] - 23s 46ms/step - loss: 1.9842 - accuracy: 0.4139 - val_loss: 0.8958 - val_accuracy: 0.7509\n",
            "Epoch 2/10\n",
            "283/283 [==============================] - 9s 31ms/step - loss: 0.5891 - accuracy: 0.8370 - val_loss: 0.3937 - val_accuracy: 0.8909\n",
            "Epoch 3/10\n",
            "283/283 [==============================] - 10s 36ms/step - loss: 0.2932 - accuracy: 0.9213 - val_loss: 0.3167 - val_accuracy: 0.9061\n",
            "Epoch 4/10\n",
            "283/283 [==============================] - 10s 36ms/step - loss: 0.2089 - accuracy: 0.9405 - val_loss: 0.2924 - val_accuracy: 0.9127\n",
            "Epoch 5/10\n",
            "283/283 [==============================] - 10s 36ms/step - loss: 0.1686 - accuracy: 0.9503 - val_loss: 0.2827 - val_accuracy: 0.9177\n",
            "Epoch 6/10\n",
            "283/283 [==============================] - 12s 42ms/step - loss: 0.1428 - accuracy: 0.9577 - val_loss: 0.2828 - val_accuracy: 0.9179\n",
            "Epoch 7/10\n",
            "283/283 [==============================] - 9s 33ms/step - loss: 0.1254 - accuracy: 0.9625 - val_loss: 0.2839 - val_accuracy: 0.9206\n",
            "Epoch 8/10\n",
            "283/283 [==============================] - 10s 36ms/step - loss: 0.1088 - accuracy: 0.9684 - val_loss: 0.2932 - val_accuracy: 0.9213\n",
            "Epoch 9/10\n",
            "283/283 [==============================] - 10s 35ms/step - loss: 0.0948 - accuracy: 0.9728 - val_loss: 0.2961 - val_accuracy: 0.9187\n",
            "Epoch 10/10\n",
            "283/283 [==============================] - 9s 30ms/step - loss: 0.0841 - accuracy: 0.9760 - val_loss: 0.3069 - val_accuracy: 0.9220\n",
            "79/79 [==============================] - 1s 8ms/step - loss: 0.3181 - accuracy: 0.9179\n",
            "Test Accuracy: 0.9179236888885498\n"
          ]
        }
      ],
      "source": [
        "import tensorflow as tf\n",
        "from keras.preprocessing.text import Tokenizer\n",
        "from keras.preprocessing.sequence import pad_sequences\n",
        "from keras.utils import to_categorical\n",
        "import numpy as np\n",
        "\n",
        "\n",
        "file_path = \"en_ewt-ud-train.conllu\"\n",
        "\n",
        "# Parse the dataset\n",
        "sentences = []\n",
        "pos_tags = []\n",
        "sentence = []\n",
        "tag = []\n",
        "\n",
        "with open(file_path, \"r\", encoding=\"utf-8\") as f:\n",
        "    lines = f.readlines()\n",
        "\n",
        "for line in lines:\n",
        "    if line.startswith(\"#\"):\n",
        "        continue\n",
        "    if line.strip() == \"\":\n",
        "        if sentence:\n",
        "            sentences.append(sentence)\n",
        "            pos_tags.append(tag)\n",
        "            sentence = []\n",
        "            tag = []\n",
        "    else:\n",
        "        parts = line.split(\"\\t\")\n",
        "        if len(parts) > 3:\n",
        "            sentence.append(parts[1])\n",
        "            tag.append(parts[3])\n",
        "\n",
        "if sentence:\n",
        "    sentences.append(sentence)\n",
        "    pos_tags.append(tag)\n",
        "\n",
        "# Create vocabularies for words and tags\n",
        "vocab_size = 10000\n",
        "embedding_dim = 16\n",
        "max_length = 20\n",
        "trunc_type = 'post'\n",
        "padding_type = 'post'\n",
        "oov_tok = \"<OOV>\"\n",
        "\n",
        "word_tokenizer = Tokenizer(num_words=vocab_size, oov_token=oov_tok)\n",
        "word_tokenizer.fit_on_texts(sentences)\n",
        "\n",
        "tag_tokenizer = Tokenizer(lower=False)\n",
        "tag_tokenizer.fit_on_texts(pos_tags)\n",
        "\n",
        "# Convert words and tags to sequences\n",
        "word_index = word_tokenizer.word_index\n",
        "tag_index = tag_tokenizer.word_index\n",
        "\n",
        "X = word_tokenizer.texts_to_sequences(sentences)\n",
        "y = tag_tokenizer.texts_to_sequences(pos_tags)\n",
        "\n",
        "# Pad sequences\n",
        "X = pad_sequences(X, maxlen=max_length, padding=padding_type, truncating=trunc_type)\n",
        "y = pad_sequences(y, maxlen=max_length, padding=padding_type, truncating=trunc_type)\n",
        "\n",
        "# Convert tags to categorical\n",
        "num_tags = len(tag_index) + 1\n",
        "y = [to_categorical(i, num_classes=num_tags) for i in y]\n",
        "y = np.array(y)\n",
        "\n",
        "# Split the data into training and testing sets\n",
        "training_size = int(len(X) * 0.8)\n",
        "X_train, X_test = X[:training_size], X[training_size:]\n",
        "y_train, y_test = y[:training_size], y[training_size:]\n",
        "\n",
        "# Build the model\n",
        "model = tf.keras.Sequential([\n",
        "    tf.keras.layers.Embedding(input_dim=vocab_size, output_dim=embedding_dim, input_length=max_length, mask_zero=True),\n",
        "    tf.keras.layers.Bidirectional(tf.keras.layers.LSTM(64, return_sequences=True)),\n",
        "    tf.keras.layers.TimeDistributed(tf.keras.layers.Dense(num_tags, activation='softmax'))\n",
        "])\n",
        "\n",
        "model.compile(optimizer='adam', loss='categorical_crossentropy', metrics=['accuracy'])\n",
        "\n",
        "# Train the model\n",
        "model.fit(X_train, y_train, batch_size=32, epochs=10, validation_split=0.1)\n",
        "\n",
        "# Evaluate the model\n",
        "loss, accuracy = model.evaluate(X_test, y_test)\n",
        "print(f\"Test Accuracy: {accuracy}\")\n",
        "\n"
      ]
    },
    {
      "cell_type": "code",
      "source": [
        "# Predict POS tags for the input sentence\n",
        "print(\"Enter text.\")\n",
        "text = input()\n",
        "sentences = [text.split()]\n",
        "sequences = word_tokenizer.texts_to_sequences(sentences)\n",
        "padded = pad_sequences(sequences, maxlen=max_length, padding=padding_type, truncating=trunc_type)\n",
        "\n",
        "\n",
        "predictions = model.predict(padded)\n",
        "predicted_tags = np.argmax(predictions, axis=-1)\n",
        "\n",
        "# Convert indices back to words and tags\n",
        "words = [word for word in text.split()]\n",
        "tags = [tag_tokenizer.index_word[idx] for idx in predicted_tags[0] if idx != 0]\n",
        "\n",
        "print(\"Words:\", words)\n",
        "print(\"Predicted POS tags:\", tags)"
      ],
      "metadata": {
        "colab": {
          "base_uri": "https://localhost:8080/"
        },
        "id": "7u2dHxZKybeI",
        "outputId": "503c238f-2d9d-4c4b-d812-57bef7ed7ddc"
      },
      "execution_count": 6,
      "outputs": [
        {
          "output_type": "stream",
          "name": "stdout",
          "text": [
            "Enter text.\n",
            "Artificial Intelligence (AI) is an evolving technology that tries to simulate human intelligence using machines.\n",
            "1/1 [==============================] - 0s 24ms/step\n",
            "Words: ['Artificial', 'Intelligence', '(AI)', 'is', 'an', 'evolving', 'technology', 'that', 'tries', 'to', 'simulate', 'human', 'intelligence', 'using', 'machines.']\n",
            "Predicted POS tags: ['ADJ', 'NOUN', 'NOUN', 'AUX', 'DET', 'NOUN', 'NOUN', 'PRON', 'VERB', 'PART', 'VERB', 'ADJ', 'NOUN', 'VERB', 'NOUN', 'PROPN', 'PROPN', 'PROPN', 'PROPN', 'PROPN']\n"
          ]
        }
      ]
    },
    {
      "cell_type": "code",
      "source": [],
      "metadata": {
        "id": "fwloIQ8MsZRR"
      },
      "execution_count": null,
      "outputs": []
    }
  ]
}